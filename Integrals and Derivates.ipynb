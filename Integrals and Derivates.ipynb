{
 "cells": [
  {
   "cell_type": "code",
   "source": [
    "import sympy\n",
    "\n",
    "# Function\n",
    "x = sympy.symbols('x')\n",
    "f = sympy.sqrt(x)\n",
    "\n",
    "# Graphic\n",
    "sympy.plot(f, (x, 0, 5))"
   ],
   "execution_count": 1,
   "outputs": [
    {
     "name": "stdout",
     "output_type": "stream",
     "text": [
      "    2.2 |                                                  .....\n",
      "        |                                             .....     \n",
      "        |                                         ....          \n",
      "        |                                    .....              \n",
      "        |                                ....                   \n",
      "        |                            ....                       \n",
      "        |                        ....                           \n",
      "        |                     ...                               \n",
      "        |                  ...                                  \n",
      "        |               ...                                     \n",
      "    1.1 |------------...----------------------------------------\n",
      "        |          ..                                           \n",
      "        |        ..                                             \n",
      "        |      ..                                               \n",
      "        |    ..                                                 \n",
      "        |   /                                                   \n",
      "        |  /                                                    \n",
      "        | .                                                     \n",
      "        |                                                       \n",
      "        |                                                       \n",
      "      0 |_______________________________________________________\n",
      "         0                          2.5                        5\n"
     ]
    },
    {
     "data": {
      "text/plain": "<sympy.plotting.plot.Plot at 0x1076cdc00>"
     },
     "execution_count": 1,
     "metadata": {},
     "output_type": "execute_result"
    }
   ],
   "metadata": {
    "datalore": {
     "type": "CODE",
     "hide_input_from_viewers": false,
     "hide_output_from_viewers": false
    }
   }
  },
  {
   "cell_type": "code",
   "source": [
    "# Calcutale the derivate\n",
    "sympy.diff(f)"
   ],
   "execution_count": 2,
   "outputs": [
    {
     "data": {
      "text/plain": "1/(2*sqrt(x))",
      "text/latex": "$\\displaystyle \\frac{1}{2 \\sqrt{x}}$"
     },
     "execution_count": 2,
     "metadata": {},
     "output_type": "execute_result"
    }
   ],
   "metadata": {
    "datalore": {
     "type": "CODE",
     "hide_input_from_viewers": false,
     "hide_output_from_viewers": false
    }
   }
  },
  {
   "cell_type": "code",
   "source": [
    "# Calculate the integral\n",
    "sympy.integrate(f)"
   ],
   "execution_count": 4,
   "outputs": [
    {
     "data": {
      "text/latex": [
       "$\\displaystyle \\frac{2 x^{\\frac{3}{2}}}{3}$"
      ]
     },
     "metadata": {},
     "output_type": "display_data"
    }
   ],
   "metadata": {
    "datalore": {
     "type": "CODE",
     "hide_input_from_viewers": false,
     "hide_output_from_viewers": false
    }
   }
  }
 ],
 "metadata": {
  "datalore": {
   "version": 1,
   "computation_mode": "JUPYTER",
   "package_manager": "pip",
   "base_environment": "default",
   "packages": []
  }
 },
 "nbformat": 4,
 "nbformat_minor": 4
}